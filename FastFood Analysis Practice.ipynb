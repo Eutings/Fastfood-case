{
 "cells": [
  {
   "cell_type": "markdown",
   "id": "3633b6d6-4184-4a57-993e-88f811069fd4",
   "metadata": {},
   "source": [
    "# Case Background"
   ]
  },
  {
   "cell_type": "markdown",
   "id": "7ba6827a-94f4-49ce-9971-80da5a0ebf28",
   "metadata": {},
   "source": [
    "This dataset records the daily operations and customer behavior of a local restaurant. \n",
    "By analyzing it, the restaurant or fast-food outlet can gain insights into customer spending patterns, sales trends at different times. These insights can be used to optimize menu offerings, and promotional strategies, helping to improve overall decision-making."
   ]
  },
  {
   "cell_type": "markdown",
   "id": "d17b033b-0f8b-413f-82e0-a358102c4782",
   "metadata": {},
   "source": [
    "    \n",
    "### 1. Columns:\n",
    "|No. | Columns | Description |\n",
    "|:--- | :--- |:--- |\n",
    "| 1 |order_id | a unique identifier for each order |\n",
    "| 2 |date | date of the transaction |\n",
    "| 3 |item_name | name of the food |\n",
    "| 4 |item_type | category of item (Fastfood or Beverages) |\n",
    "| 5 |item_price | price of the item for 1 quantity |\n",
    "| 6 |Quantity | how much quantity the customer orders |\n",
    "| 7 |transaction_amount | the total amount paid by customers |\n",
    "| 8 |transaction_type | payment method (cash, online, others) |\n",
    "| 9 |received_by | gender of the person handling the transaction |\n",
    "| 10 |time_of_sale | different times of the day (Morning, Evening, Afternoon, Night, Midnight) |"
   ]
  },
  {
   "cell_type": "markdown",
   "id": "803083e5-1673-483e-9f68-c695aafaedb3",
   "metadata": {},
   "source": [
    "### 2. Import Libraries:"
   ]
  },
  {
   "cell_type": "code",
   "execution_count": 3,
   "id": "25f9e487-63ba-4f16-b9ca-e8b3ed954b78",
   "metadata": {},
   "outputs": [],
   "source": [
    "import pandas as pd\n",
    "import numpy as np\n",
    "import re\n",
    "import matplotlib.pyplot as plt\n",
    "import seaborn as sns\n",
    "import warnings\n",
    "warnings.filterwarnings(\"ignore\")\n",
    "import os\n",
    "from pyecharts.charts import Bar, Line, Pie, Sunburst\n",
    "from pyecharts import options as opts\n",
    "import plotly.graph_objects as go"
   ]
  },
  {
   "cell_type": "markdown",
   "id": "2df82a90-fe3d-455c-8488-2915c1bc9158",
   "metadata": {},
   "source": [
    "### 3. Data Preview"
   ]
  },
  {
   "cell_type": "code",
   "execution_count": 69,
   "id": "49401450-dc04-4061-9749-3078d6d3afaf",
   "metadata": {},
   "outputs": [
    {
     "name": "stdout",
     "output_type": "stream",
     "text": [
      "<class 'pandas.core.frame.DataFrame'>\n",
      "RangeIndex: 1000 entries, 0 to 999\n",
      "Data columns (total 10 columns):\n",
      " #   Column              Non-Null Count  Dtype \n",
      "---  ------              --------------  ----- \n",
      " 0   order_id            1000 non-null   int64 \n",
      " 1   date                1000 non-null   object\n",
      " 2   item_name           1000 non-null   object\n",
      " 3   item_type           1000 non-null   object\n",
      " 4   item_price          1000 non-null   int64 \n",
      " 5   quantity            1000 non-null   int64 \n",
      " 6   transaction_amount  1000 non-null   int64 \n",
      " 7   transaction_type    893 non-null    object\n",
      " 8   received_by         1000 non-null   object\n",
      " 9   time_of_sale        1000 non-null   object\n",
      "dtypes: int64(4), object(6)\n",
      "memory usage: 78.3+ KB\n"
     ]
    }
   ],
   "source": [
    "# Read and view data\n",
    "data =  pd.read_csv(\"Balaji Fast Food Sales.csv\")\n",
    "data.info()"
   ]
  },
  {
   "cell_type": "code",
   "execution_count": 5,
   "id": "bd2d3587-15bd-4c4a-89e3-834885a3b4c1",
   "metadata": {},
   "outputs": [
    {
     "data": {
      "text/html": [
       "<div>\n",
       "<style scoped>\n",
       "    .dataframe tbody tr th:only-of-type {\n",
       "        vertical-align: middle;\n",
       "    }\n",
       "\n",
       "    .dataframe tbody tr th {\n",
       "        vertical-align: top;\n",
       "    }\n",
       "\n",
       "    .dataframe thead th {\n",
       "        text-align: right;\n",
       "    }\n",
       "</style>\n",
       "<table border=\"1\" class=\"dataframe\">\n",
       "  <thead>\n",
       "    <tr style=\"text-align: right;\">\n",
       "      <th></th>\n",
       "      <th>order_id</th>\n",
       "      <th>date</th>\n",
       "      <th>item_name</th>\n",
       "      <th>item_type</th>\n",
       "      <th>item_price</th>\n",
       "      <th>quantity</th>\n",
       "      <th>transaction_amount</th>\n",
       "      <th>transaction_type</th>\n",
       "      <th>received_by</th>\n",
       "      <th>time_of_sale</th>\n",
       "    </tr>\n",
       "  </thead>\n",
       "  <tbody>\n",
       "    <tr>\n",
       "      <th>118</th>\n",
       "      <td>119</td>\n",
       "      <td>05-12-2022</td>\n",
       "      <td>Panipuri</td>\n",
       "      <td>Fastfood</td>\n",
       "      <td>20</td>\n",
       "      <td>10</td>\n",
       "      <td>200</td>\n",
       "      <td>Cash</td>\n",
       "      <td>Mr.</td>\n",
       "      <td>Evening</td>\n",
       "    </tr>\n",
       "    <tr>\n",
       "      <th>718</th>\n",
       "      <td>719</td>\n",
       "      <td>05-09-2022</td>\n",
       "      <td>Vadapav</td>\n",
       "      <td>Fastfood</td>\n",
       "      <td>20</td>\n",
       "      <td>15</td>\n",
       "      <td>300</td>\n",
       "      <td>Cash</td>\n",
       "      <td>Mrs.</td>\n",
       "      <td>Midnight</td>\n",
       "    </tr>\n",
       "    <tr>\n",
       "      <th>767</th>\n",
       "      <td>768</td>\n",
       "      <td>01-12-2023</td>\n",
       "      <td>Sandwich</td>\n",
       "      <td>Fastfood</td>\n",
       "      <td>60</td>\n",
       "      <td>14</td>\n",
       "      <td>840</td>\n",
       "      <td>Cash</td>\n",
       "      <td>Mr.</td>\n",
       "      <td>Afternoon</td>\n",
       "    </tr>\n",
       "    <tr>\n",
       "      <th>375</th>\n",
       "      <td>376</td>\n",
       "      <td>12-04-2022</td>\n",
       "      <td>Frankie</td>\n",
       "      <td>Fastfood</td>\n",
       "      <td>50</td>\n",
       "      <td>15</td>\n",
       "      <td>750</td>\n",
       "      <td>Cash</td>\n",
       "      <td>Mr.</td>\n",
       "      <td>Midnight</td>\n",
       "    </tr>\n",
       "    <tr>\n",
       "      <th>429</th>\n",
       "      <td>430</td>\n",
       "      <td>11-05-2022</td>\n",
       "      <td>Sandwich</td>\n",
       "      <td>Fastfood</td>\n",
       "      <td>60</td>\n",
       "      <td>4</td>\n",
       "      <td>240</td>\n",
       "      <td>Online</td>\n",
       "      <td>Mr.</td>\n",
       "      <td>Night</td>\n",
       "    </tr>\n",
       "    <tr>\n",
       "      <th>119</th>\n",
       "      <td>120</td>\n",
       "      <td>07-10-2022</td>\n",
       "      <td>Frankie</td>\n",
       "      <td>Fastfood</td>\n",
       "      <td>50</td>\n",
       "      <td>2</td>\n",
       "      <td>100</td>\n",
       "      <td>Cash</td>\n",
       "      <td>Mrs.</td>\n",
       "      <td>Evening</td>\n",
       "    </tr>\n",
       "    <tr>\n",
       "      <th>57</th>\n",
       "      <td>58</td>\n",
       "      <td>02-03-2023</td>\n",
       "      <td>Vadapav</td>\n",
       "      <td>Fastfood</td>\n",
       "      <td>20</td>\n",
       "      <td>6</td>\n",
       "      <td>120</td>\n",
       "      <td>Online</td>\n",
       "      <td>Mrs.</td>\n",
       "      <td>Morning</td>\n",
       "    </tr>\n",
       "    <tr>\n",
       "      <th>920</th>\n",
       "      <td>921</td>\n",
       "      <td>9/21/2022</td>\n",
       "      <td>Vadapav</td>\n",
       "      <td>Fastfood</td>\n",
       "      <td>20</td>\n",
       "      <td>14</td>\n",
       "      <td>280</td>\n",
       "      <td>Cash</td>\n",
       "      <td>Mr.</td>\n",
       "      <td>Midnight</td>\n",
       "    </tr>\n",
       "    <tr>\n",
       "      <th>13</th>\n",
       "      <td>14</td>\n",
       "      <td>11/25/2022</td>\n",
       "      <td>Frankie</td>\n",
       "      <td>Fastfood</td>\n",
       "      <td>50</td>\n",
       "      <td>4</td>\n",
       "      <td>200</td>\n",
       "      <td>Online</td>\n",
       "      <td>Mr.</td>\n",
       "      <td>Morning</td>\n",
       "    </tr>\n",
       "    <tr>\n",
       "      <th>516</th>\n",
       "      <td>517</td>\n",
       "      <td>07-02-2022</td>\n",
       "      <td>Panipuri</td>\n",
       "      <td>Fastfood</td>\n",
       "      <td>20</td>\n",
       "      <td>13</td>\n",
       "      <td>260</td>\n",
       "      <td>Online</td>\n",
       "      <td>Mr.</td>\n",
       "      <td>Evening</td>\n",
       "    </tr>\n",
       "  </tbody>\n",
       "</table>\n",
       "</div>"
      ],
      "text/plain": [
       "     order_id        date item_name item_type  item_price  quantity  \\\n",
       "118       119  05-12-2022  Panipuri  Fastfood          20        10   \n",
       "718       719  05-09-2022   Vadapav  Fastfood          20        15   \n",
       "767       768  01-12-2023  Sandwich  Fastfood          60        14   \n",
       "375       376  12-04-2022   Frankie  Fastfood          50        15   \n",
       "429       430  11-05-2022  Sandwich  Fastfood          60         4   \n",
       "119       120  07-10-2022   Frankie  Fastfood          50         2   \n",
       "57         58  02-03-2023   Vadapav  Fastfood          20         6   \n",
       "920       921   9/21/2022   Vadapav  Fastfood          20        14   \n",
       "13         14  11/25/2022   Frankie  Fastfood          50         4   \n",
       "516       517  07-02-2022  Panipuri  Fastfood          20        13   \n",
       "\n",
       "     transaction_amount transaction_type received_by time_of_sale  \n",
       "118                 200             Cash         Mr.      Evening  \n",
       "718                 300             Cash        Mrs.     Midnight  \n",
       "767                 840             Cash         Mr.    Afternoon  \n",
       "375                 750             Cash         Mr.     Midnight  \n",
       "429                 240           Online         Mr.        Night  \n",
       "119                 100             Cash        Mrs.      Evening  \n",
       "57                  120           Online        Mrs.      Morning  \n",
       "920                 280             Cash         Mr.     Midnight  \n",
       "13                  200           Online         Mr.      Morning  \n",
       "516                 260           Online         Mr.      Evening  "
      ]
     },
     "execution_count": 5,
     "metadata": {},
     "output_type": "execute_result"
    }
   ],
   "source": [
    "data.sample(10)"
   ]
  },
  {
   "cell_type": "code",
   "execution_count": 6,
   "id": "1540f501-dd3f-4c84-8416-8ba6a64584f1",
   "metadata": {},
   "outputs": [
    {
     "data": {
      "text/plain": [
       "order_id               int64\n",
       "date                  object\n",
       "item_name             object\n",
       "item_type             object\n",
       "item_price             int64\n",
       "quantity               int64\n",
       "transaction_amount     int64\n",
       "transaction_type      object\n",
       "received_by           object\n",
       "time_of_sale          object\n",
       "dtype: object"
      ]
     },
     "execution_count": 6,
     "metadata": {},
     "output_type": "execute_result"
    }
   ],
   "source": [
    "data.dtypes"
   ]
  },
  {
   "cell_type": "code",
   "execution_count": 7,
   "id": "3ff16c10-e8be-4109-99a8-48a54a56848a",
   "metadata": {},
   "outputs": [],
   "source": [
    "data['date'] = pd.to_datetime(data['date'], errors='coerce')"
   ]
  },
  {
   "cell_type": "markdown",
   "id": "1eeb2be3-c9a5-4366-aed4-fc4c217d5423",
   "metadata": {},
   "source": [
    "### 4. Data Processing"
   ]
  },
  {
   "cell_type": "code",
   "execution_count": 8,
   "id": "c6dac05a-ecf7-4def-9a86-bf342eb0dbb1",
   "metadata": {},
   "outputs": [
    {
     "data": {
      "text/plain": [
       "order_id                0\n",
       "date                    0\n",
       "item_name               0\n",
       "item_type               0\n",
       "item_price              0\n",
       "quantity                0\n",
       "transaction_amount      0\n",
       "transaction_type      107\n",
       "received_by             0\n",
       "time_of_sale            0\n",
       "dtype: int64"
      ]
     },
     "execution_count": 8,
     "metadata": {},
     "output_type": "execute_result"
    }
   ],
   "source": [
    "# view missing data\n",
    "data.isnull().sum()"
   ]
  },
  {
   "cell_type": "code",
   "execution_count": 9,
   "id": "d24005c1-19ee-455c-82f8-f63d02e6e710",
   "metadata": {},
   "outputs": [
    {
     "data": {
      "text/plain": [
       "0"
      ]
     },
     "execution_count": 9,
     "metadata": {},
     "output_type": "execute_result"
    }
   ],
   "source": [
    "# view duplicated data\n",
    "data.duplicated().sum()"
   ]
  },
  {
   "cell_type": "code",
   "execution_count": 24,
   "id": "d7038ffa-8d56-4a7c-aefb-cf35b3f908d8",
   "metadata": {},
   "outputs": [
    {
     "data": {
      "text/plain": [
       "{'Cash', 'Online', 'others'}"
      ]
     },
     "execution_count": 24,
     "metadata": {},
     "output_type": "execute_result"
    }
   ],
   "source": [
    "set(data['transaction_type'].tolist())"
   ]
  },
  {
   "cell_type": "code",
   "execution_count": 10,
   "id": "cc11c950-fa18-475a-9255-62b3538ffbaf",
   "metadata": {},
   "outputs": [],
   "source": [
    "# Modify the order_id format\n",
    "data['order_id'] = data['order_id'].astype(str)\n",
    "#Convert the date column to date format\n",
    "data['date'] = pd. to_datetime (data['date'])\n",
    "#Fill missing values ​​in the transaction_type column with \"Others\n",
    "data['transaction_type']. fillna('others', inplace=True)"
   ]
  },
  {
   "cell_type": "markdown",
   "id": "e4d3300e-32da-4dc6-948e-b17c5e1902cd",
   "metadata": {},
   "source": [
    "### 5. Data exploration and Visualization"
   ]
  },
  {
   "cell_type": "markdown",
   "id": "210fea9e-fa85-494d-9ae6-b4bd7fa0f607",
   "metadata": {},
   "source": [
    "#### Descriptive Statistics"
   ]
  },
  {
   "cell_type": "code",
   "execution_count": 11,
   "id": "71503e61-359a-4ebe-84b4-3df301383872",
   "metadata": {},
   "outputs": [
    {
     "data": {
      "text/html": [
       "<div>\n",
       "<style scoped>\n",
       "    .dataframe tbody tr th:only-of-type {\n",
       "        vertical-align: middle;\n",
       "    }\n",
       "\n",
       "    .dataframe tbody tr th {\n",
       "        vertical-align: top;\n",
       "    }\n",
       "\n",
       "    .dataframe thead th {\n",
       "        text-align: right;\n",
       "    }\n",
       "</style>\n",
       "<table border=\"1\" class=\"dataframe\">\n",
       "  <thead>\n",
       "    <tr style=\"text-align: right;\">\n",
       "      <th></th>\n",
       "      <th>item_price</th>\n",
       "      <th>quantity</th>\n",
       "      <th>transaction_amount</th>\n",
       "    </tr>\n",
       "  </thead>\n",
       "  <tbody>\n",
       "    <tr>\n",
       "      <th>count</th>\n",
       "      <td>1000.000000</td>\n",
       "      <td>1000.000000</td>\n",
       "      <td>1000.000000</td>\n",
       "    </tr>\n",
       "    <tr>\n",
       "      <th>mean</th>\n",
       "      <td>33.315000</td>\n",
       "      <td>8.162000</td>\n",
       "      <td>275.230000</td>\n",
       "    </tr>\n",
       "    <tr>\n",
       "      <th>std</th>\n",
       "      <td>14.921744</td>\n",
       "      <td>4.413075</td>\n",
       "      <td>204.402979</td>\n",
       "    </tr>\n",
       "    <tr>\n",
       "      <th>min</th>\n",
       "      <td>20.000000</td>\n",
       "      <td>1.000000</td>\n",
       "      <td>20.000000</td>\n",
       "    </tr>\n",
       "    <tr>\n",
       "      <th>25%</th>\n",
       "      <td>20.000000</td>\n",
       "      <td>4.000000</td>\n",
       "      <td>120.000000</td>\n",
       "    </tr>\n",
       "    <tr>\n",
       "      <th>50%</th>\n",
       "      <td>25.000000</td>\n",
       "      <td>8.000000</td>\n",
       "      <td>240.000000</td>\n",
       "    </tr>\n",
       "    <tr>\n",
       "      <th>75%</th>\n",
       "      <td>50.000000</td>\n",
       "      <td>12.000000</td>\n",
       "      <td>360.000000</td>\n",
       "    </tr>\n",
       "    <tr>\n",
       "      <th>max</th>\n",
       "      <td>60.000000</td>\n",
       "      <td>15.000000</td>\n",
       "      <td>900.000000</td>\n",
       "    </tr>\n",
       "  </tbody>\n",
       "</table>\n",
       "</div>"
      ],
      "text/plain": [
       "        item_price     quantity  transaction_amount\n",
       "count  1000.000000  1000.000000         1000.000000\n",
       "mean     33.315000     8.162000          275.230000\n",
       "std      14.921744     4.413075          204.402979\n",
       "min      20.000000     1.000000           20.000000\n",
       "25%      20.000000     4.000000          120.000000\n",
       "50%      25.000000     8.000000          240.000000\n",
       "75%      50.000000    12.000000          360.000000\n",
       "max      60.000000    15.000000          900.000000"
      ]
     },
     "execution_count": 11,
     "metadata": {},
     "output_type": "execute_result"
    }
   ],
   "source": [
    "data.describe(include=[np.number])"
   ]
  },
  {
   "cell_type": "markdown",
   "id": "d10311e6-a734-4621-aaea-71c527f72958",
   "metadata": {},
   "source": [
    "**💬 Observation:**  \n",
    "1. The unit price is between `$20` and `$60`, the average unit price is about `$33,315`, and the standard deviation is about 14.92.\n",
    "2. The average number of customer orders is about 8.16, the median is 8, the minimum is 1, the maximum is 15, and the quartile range shows that most orders are between 4 and 12.\n",
    "3. The total amount paid by customers is an average of `$275.23`, the median is `$240`, the minimum is `$20`, the maximum is `$900`, and the standard deviation is 204.4, indicating that the distribution range of transaction amounts is relatively wide"
   ]
  },
  {
   "cell_type": "markdown",
   "id": "ec93f5d8-aa93-4ac0-be8f-95c77dcbf095",
   "metadata": {},
   "source": [
    "#### Consumption habits analysis"
   ]
  },
  {
   "cell_type": "code",
   "execution_count": 12,
   "id": "55ee4857-cb26-418b-bef6-0f030fceddf3",
   "metadata": {},
   "outputs": [
    {
     "data": {
      "text/html": [
       "<div>\n",
       "<style scoped>\n",
       "    .dataframe tbody tr th:only-of-type {\n",
       "        vertical-align: middle;\n",
       "    }\n",
       "\n",
       "    .dataframe tbody tr th {\n",
       "        vertical-align: top;\n",
       "    }\n",
       "\n",
       "    .dataframe thead th {\n",
       "        text-align: right;\n",
       "    }\n",
       "</style>\n",
       "<table border=\"1\" class=\"dataframe\">\n",
       "  <thead>\n",
       "    <tr style=\"text-align: right;\">\n",
       "      <th></th>\n",
       "      <th>quantity</th>\n",
       "    </tr>\n",
       "    <tr>\n",
       "      <th>item_name</th>\n",
       "      <th></th>\n",
       "    </tr>\n",
       "  </thead>\n",
       "  <tbody>\n",
       "    <tr>\n",
       "      <th>Cold coffee</th>\n",
       "      <td>1361</td>\n",
       "    </tr>\n",
       "    <tr>\n",
       "      <th>Sugarcane juice</th>\n",
       "      <td>1278</td>\n",
       "    </tr>\n",
       "    <tr>\n",
       "      <th>Panipuri</th>\n",
       "      <td>1226</td>\n",
       "    </tr>\n",
       "    <tr>\n",
       "      <th>Frankie</th>\n",
       "      <td>1150</td>\n",
       "    </tr>\n",
       "    <tr>\n",
       "      <th>Sandwich</th>\n",
       "      <td>1097</td>\n",
       "    </tr>\n",
       "    <tr>\n",
       "      <th>Aalopuri</th>\n",
       "      <td>1044</td>\n",
       "    </tr>\n",
       "    <tr>\n",
       "      <th>Vadapav</th>\n",
       "      <td>1006</td>\n",
       "    </tr>\n",
       "  </tbody>\n",
       "</table>\n",
       "</div>"
      ],
      "text/plain": [
       "                 quantity\n",
       "item_name                \n",
       "Cold coffee          1361\n",
       "Sugarcane juice      1278\n",
       "Panipuri             1226\n",
       "Frankie              1150\n",
       "Sandwich             1097\n",
       "Aalopuri             1044\n",
       "Vadapav              1006"
      ]
     },
     "execution_count": 12,
     "metadata": {},
     "output_type": "execute_result"
    }
   ],
   "source": [
    "df_name = data.groupby('item_name').agg('sum')[['quantity']]\n",
    "df_name.sort_values(by='quantity',ascending=False,inplace=True)\n",
    "df_name"
   ]
  },
  {
   "cell_type": "code",
   "execution_count": 67,
   "id": "5997b432-9c0d-40da-93de-b2daeda6d978",
   "metadata": {},
   "outputs": [
    {
     "data": {
      "image/png": "[encoded data removed]",
      "text/plain": [
       "<Figure size 1500x1500 with 5 Axes>"
      ]
     },
     "metadata": {},
     "output_type": "display_data"
    }
   ],
   "source": [
    "sns. set_style(\"darkgrid\")\n",
    "\n",
    "fig = plt.figure(figsize=(15,15))\n",
    "\n",
    "#add ax\n",
    "ax1 = fig.add_subplot(3,2,1)\n",
    "ax2 = fig.add_subplot(3, 2,2)\n",
    "ax3 = fig.add_subplot(3,2,3)\n",
    "ax4 = fig.add_subplot(3,2,4)\n",
    "\n",
    "ax5 = fig.add_subplot(3,1,3)\n",
    "\n",
    "# Item_ type distribution\n",
    "sns. countplot (x='item_type', data=data, ax=ax1)\n",
    "ax1.set_title('Item Type Distribution')\n",
    "ax1. set_xlabel(\"Item Type \")\n",
    "ax1. set_ylabel('Count')\n",
    "# Transaction_type distribution\n",
    "sns. countplot(x='transaction_type', data=data, ax=ax2)\n",
    "ax2.set_title('Transaction Type Distribution')\n",
    "ax2. set_xlabel('Transaction Type')\n",
    "ax2. set_ylabel('Count')\n",
    "\n",
    "# Received_by distribution\n",
    "sns.countplot(x='received_by', data=data, ax=ax3)\n",
    "ax3.set_title('Received By Gender Distribution')\n",
    "ax3.set_xlabel('Received By')\n",
    "ax3.set_ylabel('Count')\n",
    "# Time_of_sale distribution\n",
    "sns. countplot (x='time_of_sale', data=data, ax=ax4, order=['Morning','Afternoon','Evening','Night','Midnight'])\n",
    "ax4.set_title('Time of sale Distribution')\n",
    "ax4.set_xlabel('Time of sale')\n",
    "ax4.set_ylabel('Count')\n",
    "#Item name distribution\n",
    "item_name_counts = data['item_name'].value_counts()\n",
    "sns.barplot(y=item_name_counts.index, x=item_name_counts, ax=ax5)\n",
    "ax5.set_title('Item Name Distribution')\n",
    "ax5. set_xlabel(\"Frequency\")\n",
    "ax5.set_ylabel(\"Item Name\")\n",
    "\n",
    "\n",
    "plt.tight_layout()\n",
    "plt.show()"
   ]
  },
  {
   "cell_type": "markdown",
   "id": "336c0c2d-8653-42b1-a65f-c18ec763dcf6",
   "metadata": {},
   "source": [
    "**💬 Observation:**  \\\n",
    "1.Fast food is the category with the highest transaction volume, suggesting it might be the restaurant's signature offering.\n",
    "2.Cash and online payments are the two most common transaction methods, with cash being used slightly more than online payments, while other payment methods are used less frequently.\n",
    "3.The number of orders handled by male and female staff seems roughly equal, indicating a balanced distribution of work by gender.\n",
    "4.Sales in the afternoon and evening are higher compared to other times of the day, possibly reflecting customer habits or the restaurant's peak hours.\n",
    "5.The best-selling item is iced coffee, while sandwiches are sold the least."
   ]
  },
  {
   "cell_type": "code",
   "execution_count": 78,
   "id": "8cea17fb-9ed0-46df-9c5b-c1f513e008f1",
   "metadata": {},
   "outputs": [
    {
     "data": {
      "text/html": [
       "<div>\n",
       "<style scoped>\n",
       "    .dataframe tbody tr th:only-of-type {\n",
       "        vertical-align: middle;\n",
       "    }\n",
       "\n",
       "    .dataframe tbody tr th {\n",
       "        vertical-align: top;\n",
       "    }\n",
       "\n",
       "    .dataframe thead th {\n",
       "        text-align: right;\n",
       "    }\n",
       "</style>\n",
       "<table border=\"1\" class=\"dataframe\">\n",
       "  <thead>\n",
       "    <tr style=\"text-align: right;\">\n",
       "      <th></th>\n",
       "      <th>item_type</th>\n",
       "      <th>item_name</th>\n",
       "      <th>total_transaction_amount</th>\n",
       "      <th>total_quantity</th>\n",
       "      <th>avg_price</th>\n",
       "    </tr>\n",
       "  </thead>\n",
       "  <tbody>\n",
       "    <tr>\n",
       "      <th>5</th>\n",
       "      <td>Fastfood</td>\n",
       "      <td>Sandwich</td>\n",
       "      <td>65820</td>\n",
       "      <td>1097</td>\n",
       "      <td>60.0</td>\n",
       "    </tr>\n",
       "    <tr>\n",
       "      <th>3</th>\n",
       "      <td>Fastfood</td>\n",
       "      <td>Frankie</td>\n",
       "      <td>57500</td>\n",
       "      <td>1150</td>\n",
       "      <td>50.0</td>\n",
       "    </tr>\n",
       "    <tr>\n",
       "      <th>0</th>\n",
       "      <td>Beverages</td>\n",
       "      <td>Cold coffee</td>\n",
       "      <td>54440</td>\n",
       "      <td>1361</td>\n",
       "      <td>40.0</td>\n",
       "    </tr>\n",
       "    <tr>\n",
       "      <th>1</th>\n",
       "      <td>Beverages</td>\n",
       "      <td>Sugarcane juice</td>\n",
       "      <td>31950</td>\n",
       "      <td>1278</td>\n",
       "      <td>25.0</td>\n",
       "    </tr>\n",
       "    <tr>\n",
       "      <th>4</th>\n",
       "      <td>Fastfood</td>\n",
       "      <td>Panipuri</td>\n",
       "      <td>24520</td>\n",
       "      <td>1226</td>\n",
       "      <td>20.0</td>\n",
       "    </tr>\n",
       "    <tr>\n",
       "      <th>2</th>\n",
       "      <td>Fastfood</td>\n",
       "      <td>Aalopuri</td>\n",
       "      <td>20880</td>\n",
       "      <td>1044</td>\n",
       "      <td>20.0</td>\n",
       "    </tr>\n",
       "    <tr>\n",
       "      <th>6</th>\n",
       "      <td>Fastfood</td>\n",
       "      <td>Vadapav</td>\n",
       "      <td>20120</td>\n",
       "      <td>1006</td>\n",
       "      <td>20.0</td>\n",
       "    </tr>\n",
       "  </tbody>\n",
       "</table>\n",
       "</div>"
      ],
      "text/plain": [
       "   item_type        item_name  total_transaction_amount  total_quantity  \\\n",
       "5   Fastfood         Sandwich                     65820            1097   \n",
       "3   Fastfood          Frankie                     57500            1150   \n",
       "0  Beverages      Cold coffee                     54440            1361   \n",
       "1  Beverages  Sugarcane juice                     31950            1278   \n",
       "4   Fastfood         Panipuri                     24520            1226   \n",
       "2   Fastfood         Aalopuri                     20880            1044   \n",
       "6   Fastfood          Vadapav                     20120            1006   \n",
       "\n",
       "   avg_price  \n",
       "5       60.0  \n",
       "3       50.0  \n",
       "0       40.0  \n",
       "1       25.0  \n",
       "4       20.0  \n",
       "2       20.0  \n",
       "6       20.0  "
      ]
     },
     "execution_count": 78,
     "metadata": {},
     "output_type": "execute_result"
    }
   ],
   "source": [
    "# Group by item_name to calculate total transaction_amount and total quantity\n",
    "item_summary = data.groupby(['item_type','item_name']).agg(\n",
    "    total_transaction_amount=('transaction_amount', 'sum'),\n",
    "    total_quantity=('quantity', 'sum'),\n",
    "    avg_price=('item_price', 'mean')  # If you want to see average price\n",
    ").reset_index()\n",
    "\n",
    "# Display the summary and correlation\n",
    "item_summary.sort_values(by='total_transaction_amount',ascending=False,inplace=True)\n",
    "item_summary"
   ]
  },
  {
   "cell_type": "markdown",
   "id": "84cdfe38-9c3c-4601-bc8d-517227bc08b0",
   "metadata": {},
   "source": [
    "**💬 Observation:**  \\\n",
    "In the Beverages category, although Cold Coffee is priced significantly higher than Sugarcane Juice, it continues to exhibit a high sales volume. This suggests low price sensitivity among consumers when choosing beverages.\n",
    "\n",
    "In the Fast Food category, Panipuri demonstrates considerably higher sales compared to Aalopuri and Vadapav, despite all three items being priced identically. This suggests that factors like product appeal or customer preferences are driving the higher demand for Panipuri, rather than pricing."
   ]
  },
  {
   "cell_type": "markdown",
   "id": "cbacfc9b-8bc4-4202-a1d8-e7a4f2dc5331",
   "metadata": {},
   "source": [
    "#### Comparing consumer preferences over time"
   ]
  },
  {
   "cell_type": "code",
   "execution_count": 14,
   "id": "0e2e5a5f-d463-4419-a143-be6507f4c56b",
   "metadata": {},
   "outputs": [
    {
     "data": {
      "text/html": [
       "<div>\n",
       "<style scoped>\n",
       "    .dataframe tbody tr th:only-of-type {\n",
       "        vertical-align: middle;\n",
       "    }\n",
       "\n",
       "    .dataframe tbody tr th {\n",
       "        vertical-align: top;\n",
       "    }\n",
       "\n",
       "    .dataframe thead th {\n",
       "        text-align: right;\n",
       "    }\n",
       "</style>\n",
       "<table border=\"1\" class=\"dataframe\">\n",
       "  <thead>\n",
       "    <tr style=\"text-align: right;\">\n",
       "      <th></th>\n",
       "      <th>time_of_sale</th>\n",
       "      <th>item_type</th>\n",
       "      <th>item_name</th>\n",
       "      <th>quantity</th>\n",
       "    </tr>\n",
       "  </thead>\n",
       "  <tbody>\n",
       "    <tr>\n",
       "      <th>0</th>\n",
       "      <td>Evening</td>\n",
       "      <td>Fastfood</td>\n",
       "      <td>Aalopuri</td>\n",
       "      <td>136</td>\n",
       "    </tr>\n",
       "    <tr>\n",
       "      <th>1</th>\n",
       "      <td>Afternoon</td>\n",
       "      <td>Fastfood</td>\n",
       "      <td>Sandwich</td>\n",
       "      <td>164</td>\n",
       "    </tr>\n",
       "    <tr>\n",
       "      <th>2</th>\n",
       "      <td>Night</td>\n",
       "      <td>Fastfood</td>\n",
       "      <td>Vadapav</td>\n",
       "      <td>183</td>\n",
       "    </tr>\n",
       "    <tr>\n",
       "      <th>3</th>\n",
       "      <td>Afternoon</td>\n",
       "      <td>Fastfood</td>\n",
       "      <td>Vadapav</td>\n",
       "      <td>194</td>\n",
       "    </tr>\n",
       "    <tr>\n",
       "      <th>4</th>\n",
       "      <td>Morning</td>\n",
       "      <td>Fastfood</td>\n",
       "      <td>Vadapav</td>\n",
       "      <td>195</td>\n",
       "    </tr>\n",
       "    <tr>\n",
       "      <th>5</th>\n",
       "      <td>Midnight</td>\n",
       "      <td>Fastfood</td>\n",
       "      <td>Frankie</td>\n",
       "      <td>198</td>\n",
       "    </tr>\n",
       "    <tr>\n",
       "      <th>6</th>\n",
       "      <td>Evening</td>\n",
       "      <td>Fastfood</td>\n",
       "      <td>Vadapav</td>\n",
       "      <td>199</td>\n",
       "    </tr>\n",
       "    <tr>\n",
       "      <th>7</th>\n",
       "      <td>Midnight</td>\n",
       "      <td>Fastfood</td>\n",
       "      <td>Sandwich</td>\n",
       "      <td>201</td>\n",
       "    </tr>\n",
       "    <tr>\n",
       "      <th>8</th>\n",
       "      <td>Midnight</td>\n",
       "      <td>Beverages</td>\n",
       "      <td>Cold coffee</td>\n",
       "      <td>203</td>\n",
       "    </tr>\n",
       "    <tr>\n",
       "      <th>9</th>\n",
       "      <td>Morning</td>\n",
       "      <td>Fastfood</td>\n",
       "      <td>Frankie</td>\n",
       "      <td>204</td>\n",
       "    </tr>\n",
       "    <tr>\n",
       "      <th>10</th>\n",
       "      <td>Evening</td>\n",
       "      <td>Fastfood</td>\n",
       "      <td>Sandwich</td>\n",
       "      <td>206</td>\n",
       "    </tr>\n",
       "    <tr>\n",
       "      <th>11</th>\n",
       "      <td>Morning</td>\n",
       "      <td>Beverages</td>\n",
       "      <td>Sugarcane juice</td>\n",
       "      <td>206</td>\n",
       "    </tr>\n",
       "    <tr>\n",
       "      <th>12</th>\n",
       "      <td>Morning</td>\n",
       "      <td>Fastfood</td>\n",
       "      <td>Aalopuri</td>\n",
       "      <td>215</td>\n",
       "    </tr>\n",
       "    <tr>\n",
       "      <th>13</th>\n",
       "      <td>Midnight</td>\n",
       "      <td>Fastfood</td>\n",
       "      <td>Aalopuri</td>\n",
       "      <td>223</td>\n",
       "    </tr>\n",
       "    <tr>\n",
       "      <th>14</th>\n",
       "      <td>Afternoon</td>\n",
       "      <td>Fastfood</td>\n",
       "      <td>Aalopuri</td>\n",
       "      <td>226</td>\n",
       "    </tr>\n",
       "    <tr>\n",
       "      <th>15</th>\n",
       "      <td>Night</td>\n",
       "      <td>Beverages</td>\n",
       "      <td>Sugarcane juice</td>\n",
       "      <td>227</td>\n",
       "    </tr>\n",
       "    <tr>\n",
       "      <th>16</th>\n",
       "      <td>Afternoon</td>\n",
       "      <td>Fastfood</td>\n",
       "      <td>Panipuri</td>\n",
       "      <td>230</td>\n",
       "    </tr>\n",
       "    <tr>\n",
       "      <th>17</th>\n",
       "      <td>Morning</td>\n",
       "      <td>Fastfood</td>\n",
       "      <td>Panipuri</td>\n",
       "      <td>233</td>\n",
       "    </tr>\n",
       "    <tr>\n",
       "      <th>18</th>\n",
       "      <td>Morning</td>\n",
       "      <td>Fastfood</td>\n",
       "      <td>Sandwich</td>\n",
       "      <td>234</td>\n",
       "    </tr>\n",
       "    <tr>\n",
       "      <th>19</th>\n",
       "      <td>Midnight</td>\n",
       "      <td>Fastfood</td>\n",
       "      <td>Vadapav</td>\n",
       "      <td>235</td>\n",
       "    </tr>\n",
       "    <tr>\n",
       "      <th>20</th>\n",
       "      <td>Evening</td>\n",
       "      <td>Beverages</td>\n",
       "      <td>Cold coffee</td>\n",
       "      <td>235</td>\n",
       "    </tr>\n",
       "    <tr>\n",
       "      <th>21</th>\n",
       "      <td>Midnight</td>\n",
       "      <td>Beverages</td>\n",
       "      <td>Sugarcane juice</td>\n",
       "      <td>237</td>\n",
       "    </tr>\n",
       "    <tr>\n",
       "      <th>22</th>\n",
       "      <td>Afternoon</td>\n",
       "      <td>Fastfood</td>\n",
       "      <td>Frankie</td>\n",
       "      <td>238</td>\n",
       "    </tr>\n",
       "    <tr>\n",
       "      <th>23</th>\n",
       "      <td>Evening</td>\n",
       "      <td>Fastfood</td>\n",
       "      <td>Frankie</td>\n",
       "      <td>240</td>\n",
       "    </tr>\n",
       "    <tr>\n",
       "      <th>24</th>\n",
       "      <td>Evening</td>\n",
       "      <td>Fastfood</td>\n",
       "      <td>Panipuri</td>\n",
       "      <td>241</td>\n",
       "    </tr>\n",
       "    <tr>\n",
       "      <th>25</th>\n",
       "      <td>Night</td>\n",
       "      <td>Fastfood</td>\n",
       "      <td>Aalopuri</td>\n",
       "      <td>244</td>\n",
       "    </tr>\n",
       "    <tr>\n",
       "      <th>26</th>\n",
       "      <td>Night</td>\n",
       "      <td>Fastfood</td>\n",
       "      <td>Panipuri</td>\n",
       "      <td>244</td>\n",
       "    </tr>\n",
       "    <tr>\n",
       "      <th>27</th>\n",
       "      <td>Night</td>\n",
       "      <td>Fastfood</td>\n",
       "      <td>Frankie</td>\n",
       "      <td>270</td>\n",
       "    </tr>\n",
       "    <tr>\n",
       "      <th>28</th>\n",
       "      <td>Midnight</td>\n",
       "      <td>Fastfood</td>\n",
       "      <td>Panipuri</td>\n",
       "      <td>278</td>\n",
       "    </tr>\n",
       "    <tr>\n",
       "      <th>29</th>\n",
       "      <td>Evening</td>\n",
       "      <td>Beverages</td>\n",
       "      <td>Sugarcane juice</td>\n",
       "      <td>283</td>\n",
       "    </tr>\n",
       "    <tr>\n",
       "      <th>30</th>\n",
       "      <td>Morning</td>\n",
       "      <td>Beverages</td>\n",
       "      <td>Cold coffee</td>\n",
       "      <td>287</td>\n",
       "    </tr>\n",
       "    <tr>\n",
       "      <th>31</th>\n",
       "      <td>Night</td>\n",
       "      <td>Fastfood</td>\n",
       "      <td>Sandwich</td>\n",
       "      <td>292</td>\n",
       "    </tr>\n",
       "    <tr>\n",
       "      <th>32</th>\n",
       "      <td>Night</td>\n",
       "      <td>Beverages</td>\n",
       "      <td>Cold coffee</td>\n",
       "      <td>299</td>\n",
       "    </tr>\n",
       "    <tr>\n",
       "      <th>33</th>\n",
       "      <td>Afternoon</td>\n",
       "      <td>Beverages</td>\n",
       "      <td>Sugarcane juice</td>\n",
       "      <td>325</td>\n",
       "    </tr>\n",
       "    <tr>\n",
       "      <th>34</th>\n",
       "      <td>Afternoon</td>\n",
       "      <td>Beverages</td>\n",
       "      <td>Cold coffee</td>\n",
       "      <td>337</td>\n",
       "    </tr>\n",
       "  </tbody>\n",
       "</table>\n",
       "</div>"
      ],
      "text/plain": [
       "   time_of_sale  item_type        item_name  quantity\n",
       "0       Evening   Fastfood         Aalopuri       136\n",
       "1     Afternoon   Fastfood         Sandwich       164\n",
       "2         Night   Fastfood          Vadapav       183\n",
       "3     Afternoon   Fastfood          Vadapav       194\n",
       "4       Morning   Fastfood          Vadapav       195\n",
       "5      Midnight   Fastfood          Frankie       198\n",
       "6       Evening   Fastfood          Vadapav       199\n",
       "7      Midnight   Fastfood         Sandwich       201\n",
       "8      Midnight  Beverages      Cold coffee       203\n",
       "9       Morning   Fastfood          Frankie       204\n",
       "10      Evening   Fastfood         Sandwich       206\n",
       "11      Morning  Beverages  Sugarcane juice       206\n",
       "12      Morning   Fastfood         Aalopuri       215\n",
       "13     Midnight   Fastfood         Aalopuri       223\n",
       "14    Afternoon   Fastfood         Aalopuri       226\n",
       "15        Night  Beverages  Sugarcane juice       227\n",
       "16    Afternoon   Fastfood         Panipuri       230\n",
       "17      Morning   Fastfood         Panipuri       233\n",
       "18      Morning   Fastfood         Sandwich       234\n",
       "19     Midnight   Fastfood          Vadapav       235\n",
       "20      Evening  Beverages      Cold coffee       235\n",
       "21     Midnight  Beverages  Sugarcane juice       237\n",
       "22    Afternoon   Fastfood          Frankie       238\n",
       "23      Evening   Fastfood          Frankie       240\n",
       "24      Evening   Fastfood         Panipuri       241\n",
       "25        Night   Fastfood         Aalopuri       244\n",
       "26        Night   Fastfood         Panipuri       244\n",
       "27        Night   Fastfood          Frankie       270\n",
       "28     Midnight   Fastfood         Panipuri       278\n",
       "29      Evening  Beverages  Sugarcane juice       283\n",
       "30      Morning  Beverages      Cold coffee       287\n",
       "31        Night   Fastfood         Sandwich       292\n",
       "32        Night  Beverages      Cold coffee       299\n",
       "33    Afternoon  Beverages  Sugarcane juice       325\n",
       "34    Afternoon  Beverages      Cold coffee       337"
      ]
     },
     "execution_count": 14,
     "metadata": {},
     "output_type": "execute_result"
    }
   ],
   "source": [
    "df_time = data.groupby(['time_of_sale','item_type','item_name']).agg('sum')[['quantity']]\n",
    "df_time.sort_values(by='quantity',inplace=True)\n",
    "df_time = df_time.reset_index()\n",
    "df_time"
   ]
  },
  {
   "cell_type": "code",
   "execution_count": 52,
   "id": "5b25507f-e9dd-46c2-8530-3fc89a33343a",
   "metadata": {},
   "outputs": [
    {
     "data": {
      "application/vnd.plotly.v1+json": {
       "config": {
        "plotlyServerURL": "https://plot.ly"
       },
       "data": [
        {
         "branchvalues": "total",
         "customdata": [
          [
           "Night"
          ],
          [
           "Evening"
          ],
          [
           "Morning"
          ],
          [
           "Midnight"
          ],
          [
           "Morning"
          ],
          [
           "Evening"
          ],
          [
           "Night"
          ],
          [
           "Night"
          ],
          [
           "Night"
          ],
          [
           "Morning"
          ],
          [
           "Afternoon"
          ],
          [
           "Afternoon"
          ],
          [
           "Afternoon"
          ],
          [
           "Evening"
          ],
          [
           "Afternoon"
          ],
          [
           "Morning"
          ],
          [
           "Morning"
          ],
          [
           "Morning"
          ],
          [
           "Night"
          ],
          [
           "Midnight"
          ],
          [
           "Evening"
          ],
          [
           "Afternoon"
          ],
          [
           "Night"
          ],
          [
           "Midnight"
          ],
          [
           "Morning"
          ],
          [
           "Night"
          ],
          [
           "Evening"
          ],
          [
           "Midnight"
          ],
          [
           "Afternoon"
          ],
          [
           "Evening"
          ],
          [
           "Midnight"
          ],
          [
           "Midnight"
          ],
          [
           "Afternoon"
          ],
          [
           "Evening"
          ],
          [
           "Midnight"
          ],
          [
           "Afternoon"
          ],
          [
           "Evening"
          ],
          [
           "Midnight"
          ],
          [
           "Morning"
          ],
          [
           "Night"
          ],
          [
           "Afternoon"
          ],
          [
           "Evening"
          ],
          [
           "Midnight"
          ],
          [
           "Morning"
          ],
          [
           "Night"
          ],
          [
           "Afternoon"
          ],
          [
           "Evening"
          ],
          [
           "Midnight"
          ],
          [
           "Morning"
          ],
          [
           "Night"
          ]
         ],
         "domain": {
          "x": [
           0,
           1
          ],
          "y": [
           0,
           1
          ]
         },
         "hovertemplate": "labels=%{label}<br>quantity=%{value}<br>parent=%{parent}<br>id=%{id}<br>time_of_sale=%{customdata[0]}<extra></extra>",
         "ids": [
          "Night/Fastfood/Vadapav",
          "Evening/Fastfood/Aalopuri",
          "Morning/Fastfood/Aalopuri",
          "Midnight/Fastfood/Sandwich",
          "Morning/Fastfood/Vadapav",
          "Evening/Fastfood/Panipuri",
          "Night/Fastfood/Frankie",
          "Night/Beverages/Sugarcane juice",
          "Night/Fastfood/Sandwich",
          "Morning/Fastfood/Sandwich",
          "Afternoon/Fastfood/Sandwich",
          "Afternoon/Fastfood/Aalopuri",
          "Afternoon/Fastfood/Frankie",
          "Evening/Beverages/Cold coffee",
          "Afternoon/Beverages/Cold coffee",
          "Morning/Fastfood/Frankie",
          "Morning/Beverages/Sugarcane juice",
          "Morning/Beverages/Cold coffee",
          "Night/Fastfood/Panipuri",
          "Midnight/Beverages/Cold coffee",
          "Evening/Fastfood/Sandwich",
          "Afternoon/Fastfood/Vadapav",
          "Night/Fastfood/Aalopuri",
          "Midnight/Fastfood/Frankie",
          "Morning/Fastfood/Panipuri",
          "Night/Beverages/Cold coffee",
          "Evening/Fastfood/Frankie",
          "Midnight/Fastfood/Panipuri",
          "Afternoon/Beverages/Sugarcane juice",
          "Evening/Beverages/Sugarcane juice",
          "Midnight/Beverages/Sugarcane juice",
          "Midnight/Fastfood/Aalopuri",
          "Afternoon/Fastfood/Panipuri",
          "Evening/Fastfood/Vadapav",
          "Midnight/Fastfood/Vadapav",
          "Afternoon/Beverages",
          "Evening/Beverages",
          "Midnight/Beverages",
          "Morning/Beverages",
          "Night/Beverages",
          "Afternoon/Fastfood",
          "Evening/Fastfood",
          "Midnight/Fastfood",
          "Morning/Fastfood",
          "Night/Fastfood",
          "Afternoon",
          "Evening",
          "Midnight",
          "Morning",
          "Night"
         ],
         "insidetextorientation": "radial",
         "labels": [
          "Vadapav",
          "Aalopuri",
          "Aalopuri",
          "Sandwich",
          "Vadapav",
          "Panipuri",
          "Frankie",
          "Sugarcane juice",
          "Sandwich",
          "Sandwich",
          "Sandwich",
          "Aalopuri",
          "Frankie",
          "Cold coffee",
          "Cold coffee",
          "Frankie",
          "Sugarcane juice",
          "Cold coffee",
          "Panipuri",
          "Cold coffee",
          "Sandwich",
          "Vadapav",
          "Aalopuri",
          "Frankie",
          "Panipuri",
          "Cold coffee",
          "Frankie",
          "Panipuri",
          "Sugarcane juice",
          "Sugarcane juice",
          "Sugarcane juice",
          "Aalopuri",
          "Panipuri",
          "Vadapav",
          "Vadapav",
          "Beverages",
          "Beverages",
          "Beverages",
          "Beverages",
          "Beverages",
          "Fastfood",
          "Fastfood",
          "Fastfood",
          "Fastfood",
          "Fastfood",
          "Afternoon",
          "Evening",
          "Midnight",
          "Morning",
          "Night"
         ],
         "marker": {
          "colors": [
           "rgb(141,211,199)",
           "rgb(255,255,179)",
           "rgb(190,186,218)",
           "rgb(251,128,114)",
           "rgb(190,186,218)",
           "rgb(255,255,179)",
           "rgb(141,211,199)",
           "rgb(141,211,199)",
           "rgb(141,211,199)",
           "rgb(190,186,218)",
           "rgb(128,177,211)",
           "rgb(128,177,211)",
           "rgb(128,177,211)",
           "rgb(255,255,179)",
           "rgb(128,177,211)",
           "rgb(190,186,218)",
           "rgb(190,186,218)",
           "rgb(190,186,218)",
           "rgb(141,211,199)",
           "rgb(251,128,114)",
           "rgb(255,255,179)",
           "rgb(128,177,211)",
           "rgb(141,211,199)",
           "rgb(251,128,114)",
           "rgb(190,186,218)",
           "rgb(141,211,199)",
           "rgb(255,255,179)",
           "rgb(251,128,114)",
           "rgb(128,177,211)",
           "rgb(255,255,179)",
           "rgb(251,128,114)",
           "rgb(251,128,114)",
           "rgb(128,177,211)",
           "rgb(255,255,179)",
           "rgb(251,128,114)",
           "rgb(128,177,211)",
           "rgb(255,255,179)",
           "rgb(251,128,114)",
           "rgb(190,186,218)",
           "rgb(141,211,199)",
           "rgb(128,177,211)",
           "rgb(255,255,179)",
           "rgb(251,128,114)",
           "rgb(190,186,218)",
           "rgb(141,211,199)",
           "rgb(128,177,211)",
           "rgb(255,255,179)",
           "rgb(251,128,114)",
           "rgb(190,186,218)",
           "rgb(141,211,199)"
          ]
         },
         "name": "",
         "parents": [
          "Night/Fastfood",
          "Evening/Fastfood",
          "Morning/Fastfood",
          "Midnight/Fastfood",
          "Morning/Fastfood",
          "Evening/Fastfood",
          "Night/Fastfood",
          "Night/Beverages",
          "Night/Fastfood",
          "Morning/Fastfood",
          "Afternoon/Fastfood",
          "Afternoon/Fastfood",
          "Afternoon/Fastfood",
          "Evening/Beverages",
          "Afternoon/Beverages",
          "Morning/Fastfood",
          "Morning/Beverages",
          "Morning/Beverages",
          "Night/Fastfood",
          "Midnight/Beverages",
          "Evening/Fastfood",
          "Afternoon/Fastfood",
          "Night/Fastfood",
          "Midnight/Fastfood",
          "Morning/Fastfood",
          "Night/Beverages",
          "Evening/Fastfood",
          "Midnight/Fastfood",
          "Afternoon/Beverages",
          "Evening/Beverages",
          "Midnight/Beverages",
          "Midnight/Fastfood",
          "Afternoon/Fastfood",
          "Evening/Fastfood",
          "Midnight/Fastfood",
          "Afternoon",
          "Evening",
          "Midnight",
          "Morning",
          "Night",
          "Afternoon",
          "Evening",
          "Midnight",
          "Morning",
          "Night",
          "",
          "",
          "",
          "",
          ""
         ],
         "textinfo": "label+value",
         "type": "sunburst",
         "values": [
          183,
          136,
          215,
          201,
          195,
          241,
          270,
          227,
          292,
          234,
          164,
          226,
          238,
          235,
          337,
          204,
          206,
          287,
          244,
          203,
          206,
          194,
          244,
          198,
          233,
          299,
          240,
          278,
          325,
          283,
          237,
          223,
          230,
          199,
          235,
          662,
          518,
          440,
          493,
          526,
          1052,
          1022,
          1135,
          1081,
          1233,
          1714,
          1540,
          1575,
          1574,
          1759
         ]
        }
       ],
       "layout": {
        "height": 700,
        "legend": {
         "tracegroupgap": 0
        },
        "margin": {
         "t": 60
        },
        "sunburstcolorway": [
         "rgb(141,211,199)",
         "rgb(255,255,179)",
         "rgb(190,186,218)",
         "rgb(251,128,114)",
         "rgb(128,177,211)",
         "rgb(253,180,98)",
         "rgb(179,222,105)",
         "rgb(252,205,229)",
         "rgb(217,217,217)",
         "rgb(188,128,189)",
         "rgb(204,235,197)",
         "rgb(255,237,111)"
        ],
        "template": {
         "data": {
          "bar": [
           {
            "error_x": {
             "color": "#2a3f5f"
            },
            "error_y": {
             "color": "#2a3f5f"
            },
            "marker": {
             "line": {
              "color": "#E5ECF6",
              "width": 0.5
             },
             "pattern": {
              "fillmode": "overlay",
              "size": 10,
              "solidity": 0.2
             }
            },
            "type": "bar"
           }
          ],
          "barpolar": [
           {
            "marker": {
             "line": {
              "color": "#E5ECF6",
              "width": 0.5
             },
             "pattern": {
              "fillmode": "overlay",
              "size": 10,
              "solidity": 0.2
             }
            },
            "type": "barpolar"
           }
          ],
          "carpet": [
           {
            "aaxis": {
             "endlinecolor": "#2a3f5f",
             "gridcolor": "white",
             "linecolor": "white",
             "minorgridcolor": "white",
             "startlinecolor": "#2a3f5f"
            },
            "baxis": {
             "endlinecolor": "#2a3f5f",
             "gridcolor": "white",
             "linecolor": "white",
             "minorgridcolor": "white",
             "startlinecolor": "#2a3f5f"
            },
            "type": "carpet"
           }
          ],
          "choropleth": [
           {
            "colorbar": {
             "outlinewidth": 0,
             "ticks": ""
            },
            "type": "choropleth"
           }
          ],
          "contour": [
           {
            "colorbar": {
             "outlinewidth": 0,
             "ticks": ""
            },
            "colorscale": [
             [
              0,
              "#0d0887"
             ],
             [
              0.1111111111111111,
              "#46039f"
             ],
             [
              0.2222222222222222,
              "#7201a8"
             ],
             [
              0.3333333333333333,
              "#9c179e"
             ],
             [
              0.4444444444444444,
              "#bd3786"
             ],
             [
              0.5555555555555556,
              "#d8576b"
             ],
             [
              0.6666666666666666,
              "#ed7953"
             ],
             [
              0.7777777777777778,
              "#fb9f3a"
             ],
             [
              0.8888888888888888,
              "#fdca26"
             ],
             [
              1,
              "#f0f921"
             ]
            ],
            "type": "contour"
           }
          ],
          "contourcarpet": [
           {
            "colorbar": {
             "outlinewidth": 0,
             "ticks": ""
            },
            "type": "contourcarpet"
           }
          ],
          "heatmap": [
           {
            "colorbar": {
             "outlinewidth": 0,
             "ticks": ""
            },
            "colorscale": [
             [
              0,
              "#0d0887"
             ],
             [
              0.1111111111111111,
              "#46039f"
             ],
             [
              0.2222222222222222,
              "#7201a8"
             ],
             [
              0.3333333333333333,
              "#9c179e"
             ],
             [
              0.4444444444444444,
              "#bd3786"
             ],
             [
              0.5555555555555556,
              "#d8576b"
             ],
             [
              0.6666666666666666,
              "#ed7953"
             ],
             [
              0.7777777777777778,
              "#fb9f3a"
             ],
             [
              0.8888888888888888,
              "#fdca26"
             ],
             [
              1,
              "#f0f921"
             ]
            ],
            "type": "heatmap"
           }
          ],
          "heatmapgl": [
           {
            "colorbar": {
             "outlinewidth": 0,
             "ticks": ""
            },
            "colorscale": [
             [
              0,
              "#0d0887"
             ],
             [
              0.1111111111111111,
              "#46039f"
             ],
             [
              0.2222222222222222,
              "#7201a8"
             ],
             [
              0.3333333333333333,
              "#9c179e"
             ],
             [
              0.4444444444444444,
              "#bd3786"
             ],
             [
              0.5555555555555556,
              "#d8576b"
             ],
             [
              0.6666666666666666,
              "#ed7953"
             ],
             [
              0.7777777777777778,
              "#fb9f3a"
             ],
             [
              0.8888888888888888,
              "#fdca26"
             ],
             [
              1,
              "#f0f921"
             ]
            ],
            "type": "heatmapgl"
           }
          ],
          "histogram": [
           {
            "marker": {
             "pattern": {
              "fillmode": "overlay",
              "size": 10,
              "solidity": 0.2
             }
            },
            "type": "histogram"
           }
          ],
          "histogram2d": [
           {
            "colorbar": {
             "outlinewidth": 0,
             "ticks": ""
            },
            "colorscale": [
             [
              0,
              "#0d0887"
             ],
             [
              0.1111111111111111,
              "#46039f"
             ],
             [
              0.2222222222222222,
              "#7201a8"
             ],
             [
              0.3333333333333333,
              "#9c179e"
             ],
             [
              0.4444444444444444,
              "#bd3786"
             ],
             [
              0.5555555555555556,
              "#d8576b"
             ],
             [
              0.6666666666666666,
              "#ed7953"
             ],
             [
              0.7777777777777778,
              "#fb9f3a"
             ],
             [
              0.8888888888888888,
              "#fdca26"
             ],
             [
              1,
              "#f0f921"
             ]
            ],
            "type": "histogram2d"
           }
          ],
          "histogram2dcontour": [
           {
            "colorbar": {
             "outlinewidth": 0,
             "ticks": ""
            },
            "colorscale": [
             [
              0,
              "#0d0887"
             ],
             [
              0.1111111111111111,
              "#46039f"
             ],
             [
              0.2222222222222222,
              "#7201a8"
             ],
             [
              0.3333333333333333,
              "#9c179e"
             ],
             [
              0.4444444444444444,
              "#bd3786"
             ],
             [
              0.5555555555555556,
              "#d8576b"
             ],
             [
              0.6666666666666666,
              "#ed7953"
             ],
             [
              0.7777777777777778,
              "#fb9f3a"
             ],
             [
              0.8888888888888888,
              "#fdca26"
             ],
             [
              1,
              "#f0f921"
             ]
            ],
            "type": "histogram2dcontour"
           }
          ],
          "mesh3d": [
           {
            "colorbar": {
             "outlinewidth": 0,
             "ticks": ""
            },
            "type": "mesh3d"
           }
          ],
          "parcoords": [
           {
            "line": {
             "colorbar": {
              "outlinewidth": 0,
              "ticks": ""
             }
            },
            "type": "parcoords"
           }
          ],
          "pie": [
           {
            "automargin": true,
            "type": "pie"
           }
          ],
          "scatter": [
           {
            "fillpattern": {
             "fillmode": "overlay",
             "size": 10,
             "solidity": 0.2
            },
            "type": "scatter"
           }
          ],
          "scatter3d": [
           {
            "line": {
             "colorbar": {
              "outlinewidth": 0,
              "ticks": ""
             }
            },
            "marker": {
             "colorbar": {
              "outlinewidth": 0,
              "ticks": ""
             }
            },
            "type": "scatter3d"
           }
          ],
          "scattercarpet": [
           {
            "marker": {
             "colorbar": {
              "outlinewidth": 0,
              "ticks": ""
             }
            },
            "type": "scattercarpet"
           }
          ],
          "scattergeo": [
           {
            "marker": {
             "colorbar": {
              "outlinewidth": 0,
              "ticks": ""
             }
            },
            "type": "scattergeo"
           }
          ],
          "scattergl": [
           {
            "marker": {
             "colorbar": {
              "outlinewidth": 0,
              "ticks": ""
             }
            },
            "type": "scattergl"
           }
          ],
          "scattermapbox": [
           {
            "marker": {
             "colorbar": {
              "outlinewidth": 0,
              "ticks": ""
             }
            },
            "type": "scattermapbox"
           }
          ],
          "scatterpolar": [
           {
            "marker": {
             "colorbar": {
              "outlinewidth": 0,
              "ticks": ""
             }
            },
            "type": "scatterpolar"
           }
          ],
          "scatterpolargl": [
           {
            "marker": {
             "colorbar": {
              "outlinewidth": 0,
              "ticks": ""
             }
            },
            "type": "scatterpolargl"
           }
          ],
          "scatterternary": [
           {
            "marker": {
             "colorbar": {
              "outlinewidth": 0,
              "ticks": ""
             }
            },
            "type": "scatterternary"
           }
          ],
          "surface": [
           {
            "colorbar": {
             "outlinewidth": 0,
             "ticks": ""
            },
            "colorscale": [
             [
              0,
              "#0d0887"
             ],
             [
              0.1111111111111111,
              "#46039f"
             ],
             [
              0.2222222222222222,
              "#7201a8"
             ],
             [
              0.3333333333333333,
              "#9c179e"
             ],
             [
              0.4444444444444444,
              "#bd3786"
             ],
             [
              0.5555555555555556,
              "#d8576b"
             ],
             [
              0.6666666666666666,
              "#ed7953"
             ],
             [
              0.7777777777777778,
              "#fb9f3a"
             ],
             [
              0.8888888888888888,
              "#fdca26"
             ],
             [
              1,
              "#f0f921"
             ]
            ],
            "type": "surface"
           }
          ],
          "table": [
           {
            "cells": {
             "fill": {
              "color": "#EBF0F8"
             },
             "line": {
              "color": "white"
             }
            },
            "header": {
             "fill": {
              "color": "#C8D4E3"
             },
             "line": {
              "color": "white"
             }
            },
            "type": "table"
           }
          ]
         },
         "layout": {
          "annotationdefaults": {
           "arrowcolor": "#2a3f5f",
           "arrowhead": 0,
           "arrowwidth": 1
          },
          "autotypenumbers": "strict",
          "coloraxis": {
           "colorbar": {
            "outlinewidth": 0,
            "ticks": ""
           }
          },
          "colorscale": {
           "diverging": [
            [
             0,
             "#8e0152"
            ],
            [
             0.1,
             "#c51b7d"
            ],
            [
             0.2,
             "#de77ae"
            ],
            [
             0.3,
             "#f1b6da"
            ],
            [
             0.4,
             "#fde0ef"
            ],
            [
             0.5,
             "#f7f7f7"
            ],
            [
             0.6,
             "#e6f5d0"
            ],
            [
             0.7,
             "#b8e186"
            ],
            [
             0.8,
             "#7fbc41"
            ],
            [
             0.9,
             "#4d9221"
            ],
            [
             1,
             "#276419"
            ]
           ],
           "sequential": [
            [
             0,
             "#0d0887"
            ],
            [
             0.1111111111111111,
             "#46039f"
            ],
            [
             0.2222222222222222,
             "#7201a8"
            ],
            [
             0.3333333333333333,
             "#9c179e"
            ],
            [
             0.4444444444444444,
             "#bd3786"
            ],
            [
             0.5555555555555556,
             "#d8576b"
            ],
            [
             0.6666666666666666,
             "#ed7953"
            ],
            [
             0.7777777777777778,
             "#fb9f3a"
            ],
            [
             0.8888888888888888,
             "#fdca26"
            ],
            [
             1,
             "#f0f921"
            ]
           ],
           "sequentialminus": [
            [
             0,
             "#0d0887"
            ],
            [
             0.1111111111111111,
             "#46039f"
            ],
            [
             0.2222222222222222,
             "#7201a8"
            ],
            [
             0.3333333333333333,
             "#9c179e"
            ],
            [
             0.4444444444444444,
             "#bd3786"
            ],
            [
             0.5555555555555556,
             "#d8576b"
            ],
            [
             0.6666666666666666,
             "#ed7953"
            ],
            [
             0.7777777777777778,
             "#fb9f3a"
            ],
            [
             0.8888888888888888,
             "#fdca26"
            ],
            [
             1,
             "#f0f921"
            ]
           ]
          },
          "colorway": [
           "#636efa",
           "#EF553B",
           "#00cc96",
           "#ab63fa",
           "#FFA15A",
           "#19d3f3",
           "#FF6692",
           "#B6E880",
           "#FF97FF",
           "#FECB52"
          ],
          "font": {
           "color": "#2a3f5f"
          },
          "geo": {
           "bgcolor": "white",
           "lakecolor": "white",
           "landcolor": "#E5ECF6",
           "showlakes": true,
           "showland": true,
           "subunitcolor": "white"
          },
          "hoverlabel": {
           "align": "left"
          },
          "hovermode": "closest",
          "mapbox": {
           "style": "light"
          },
          "paper_bgcolor": "white",
          "plot_bgcolor": "#E5ECF6",
          "polar": {
           "angularaxis": {
            "gridcolor": "white",
            "linecolor": "white",
            "ticks": ""
           },
           "bgcolor": "#E5ECF6",
           "radialaxis": {
            "gridcolor": "white",
            "linecolor": "white",
            "ticks": ""
           }
          },
          "scene": {
           "xaxis": {
            "backgroundcolor": "#E5ECF6",
            "gridcolor": "white",
            "gridwidth": 2,
            "linecolor": "white",
            "showbackground": true,
            "ticks": "",
            "zerolinecolor": "white"
           },
           "yaxis": {
            "backgroundcolor": "#E5ECF6",
            "gridcolor": "white",
            "gridwidth": 2,
            "linecolor": "white",
            "showbackground": true,
            "ticks": "",
            "zerolinecolor": "white"
           },
           "zaxis": {
            "backgroundcolor": "#E5ECF6",
            "gridcolor": "white",
            "gridwidth": 2,
            "linecolor": "white",
            "showbackground": true,
            "ticks": "",
            "zerolinecolor": "white"
           }
          },
          "shapedefaults": {
           "line": {
            "color": "#2a3f5f"
           }
          },
          "ternary": {
           "aaxis": {
            "gridcolor": "white",
            "linecolor": "white",
            "ticks": ""
           },
           "baxis": {
            "gridcolor": "white",
            "linecolor": "white",
            "ticks": ""
           },
           "bgcolor": "#E5ECF6",
           "caxis": {
            "gridcolor": "white",
            "linecolor": "white",
            "ticks": ""
           }
          },
          "title": {
           "x": 0.05
          },
          "xaxis": {
           "automargin": true,
           "gridcolor": "white",
           "linecolor": "white",
           "ticks": "",
           "title": {
            "standoff": 15
           },
           "zerolinecolor": "white",
           "zerolinewidth": 2
          },
          "yaxis": {
           "automargin": true,
           "gridcolor": "white",
           "linecolor": "white",
           "ticks": "",
           "title": {
            "standoff": 15
           },
           "zerolinecolor": "white",
           "zerolinewidth": 2
          }
         }
        },
        "width": 700
       }
      },
      "image/png": "[encoded data removed]",
      "text/html": [
       "<div>                            <div id=\"abd8a638-3c52-4534-a7cf-c7783aea6a66\" class=\"plotly-graph-div\" style=\"height:700px; width:700px;\"></div>            <script type=\"text/javascript\">                require([\"plotly\"], function(Plotly) {                    window.PLOTLYENV=window.PLOTLYENV || {};                                    if (document.getElementById(\"abd8a638-3c52-4534-a7cf-c7783aea6a66\")) {                    Plotly.newPlot(                        \"abd8a638-3c52-4534-a7cf-c7783aea6a66\",                        [{\"branchvalues\":\"total\",\"customdata\":[[\"Night\"],[\"Evening\"],[\"Morning\"],[\"Midnight\"],[\"Morning\"],[\"Evening\"],[\"Night\"],[\"Night\"],[\"Night\"],[\"Morning\"],[\"Afternoon\"],[\"Afternoon\"],[\"Afternoon\"],[\"Evening\"],[\"Afternoon\"],[\"Morning\"],[\"Morning\"],[\"Morning\"],[\"Night\"],[\"Midnight\"],[\"Evening\"],[\"Afternoon\"],[\"Night\"],[\"Midnight\"],[\"Morning\"],[\"Night\"],[\"Evening\"],[\"Midnight\"],[\"Afternoon\"],[\"Evening\"],[\"Midnight\"],[\"Midnight\"],[\"Afternoon\"],[\"Evening\"],[\"Midnight\"],[\"Afternoon\"],[\"Evening\"],[\"Midnight\"],[\"Morning\"],[\"Night\"],[\"Afternoon\"],[\"Evening\"],[\"Midnight\"],[\"Morning\"],[\"Night\"],[\"Afternoon\"],[\"Evening\"],[\"Midnight\"],[\"Morning\"],[\"Night\"]],\"domain\":{\"x\":[0.0,1.0],\"y\":[0.0,1.0]},\"hovertemplate\":\"labels=%{label}\\u003cbr\\u003equantity=%{value}\\u003cbr\\u003eparent=%{parent}\\u003cbr\\u003eid=%{id}\\u003cbr\\u003etime_of_sale=%{customdata[0]}\\u003cextra\\u003e\\u003c\\u002fextra\\u003e\",\"ids\":[\"Night\\u002fFastfood\\u002fVadapav\",\"Evening\\u002fFastfood\\u002fAalopuri\",\"Morning\\u002fFastfood\\u002fAalopuri\",\"Midnight\\u002fFastfood\\u002fSandwich\",\"Morning\\u002fFastfood\\u002fVadapav\",\"Evening\\u002fFastfood\\u002fPanipuri\",\"Night\\u002fFastfood\\u002fFrankie\",\"Night\\u002fBeverages\\u002fSugarcane juice\",\"Night\\u002fFastfood\\u002fSandwich\",\"Morning\\u002fFastfood\\u002fSandwich\",\"Afternoon\\u002fFastfood\\u002fSandwich\",\"Afternoon\\u002fFastfood\\u002fAalopuri\",\"Afternoon\\u002fFastfood\\u002fFrankie\",\"Evening\\u002fBeverages\\u002fCold coffee\",\"Afternoon\\u002fBeverages\\u002fCold coffee\",\"Morning\\u002fFastfood\\u002fFrankie\",\"Morning\\u002fBeverages\\u002fSugarcane juice\",\"Morning\\u002fBeverages\\u002fCold coffee\",\"Night\\u002fFastfood\\u002fPanipuri\",\"Midnight\\u002fBeverages\\u002fCold coffee\",\"Evening\\u002fFastfood\\u002fSandwich\",\"Afternoon\\u002fFastfood\\u002fVadapav\",\"Night\\u002fFastfood\\u002fAalopuri\",\"Midnight\\u002fFastfood\\u002fFrankie\",\"Morning\\u002fFastfood\\u002fPanipuri\",\"Night\\u002fBeverages\\u002fCold coffee\",\"Evening\\u002fFastfood\\u002fFrankie\",\"Midnight\\u002fFastfood\\u002fPanipuri\",\"Afternoon\\u002fBeverages\\u002fSugarcane juice\",\"Evening\\u002fBeverages\\u002fSugarcane juice\",\"Midnight\\u002fBeverages\\u002fSugarcane juice\",\"Midnight\\u002fFastfood\\u002fAalopuri\",\"Afternoon\\u002fFastfood\\u002fPanipuri\",\"Evening\\u002fFastfood\\u002fVadapav\",\"Midnight\\u002fFastfood\\u002fVadapav\",\"Afternoon\\u002fBeverages\",\"Evening\\u002fBeverages\",\"Midnight\\u002fBeverages\",\"Morning\\u002fBeverages\",\"Night\\u002fBeverages\",\"Afternoon\\u002fFastfood\",\"Evening\\u002fFastfood\",\"Midnight\\u002fFastfood\",\"Morning\\u002fFastfood\",\"Night\\u002fFastfood\",\"Afternoon\",\"Evening\",\"Midnight\",\"Morning\",\"Night\"],\"labels\":[\"Vadapav\",\"Aalopuri\",\"Aalopuri\",\"Sandwich\",\"Vadapav\",\"Panipuri\",\"Frankie\",\"Sugarcane juice\",\"Sandwich\",\"Sandwich\",\"Sandwich\",\"Aalopuri\",\"Frankie\",\"Cold coffee\",\"Cold coffee\",\"Frankie\",\"Sugarcane juice\",\"Cold coffee\",\"Panipuri\",\"Cold coffee\",\"Sandwich\",\"Vadapav\",\"Aalopuri\",\"Frankie\",\"Panipuri\",\"Cold coffee\",\"Frankie\",\"Panipuri\",\"Sugarcane juice\",\"Sugarcane juice\",\"Sugarcane juice\",\"Aalopuri\",\"Panipuri\",\"Vadapav\",\"Vadapav\",\"Beverages\",\"Beverages\",\"Beverages\",\"Beverages\",\"Beverages\",\"Fastfood\",\"Fastfood\",\"Fastfood\",\"Fastfood\",\"Fastfood\",\"Afternoon\",\"Evening\",\"Midnight\",\"Morning\",\"Night\"],\"marker\":{\"colors\":[\"rgb(141,211,199)\",\"rgb(255,255,179)\",\"rgb(190,186,218)\",\"rgb(251,128,114)\",\"rgb(190,186,218)\",\"rgb(255,255,179)\",\"rgb(141,211,199)\",\"rgb(141,211,199)\",\"rgb(141,211,199)\",\"rgb(190,186,218)\",\"rgb(128,177,211)\",\"rgb(128,177,211)\",\"rgb(128,177,211)\",\"rgb(255,255,179)\",\"rgb(128,177,211)\",\"rgb(190,186,218)\",\"rgb(190,186,218)\",\"rgb(190,186,218)\",\"rgb(141,211,199)\",\"rgb(251,128,114)\",\"rgb(255,255,179)\",\"rgb(128,177,211)\",\"rgb(141,211,199)\",\"rgb(251,128,114)\",\"rgb(190,186,218)\",\"rgb(141,211,199)\",\"rgb(255,255,179)\",\"rgb(251,128,114)\",\"rgb(128,177,211)\",\"rgb(255,255,179)\",\"rgb(251,128,114)\",\"rgb(251,128,114)\",\"rgb(128,177,211)\",\"rgb(255,255,179)\",\"rgb(251,128,114)\",\"rgb(128,177,211)\",\"rgb(255,255,179)\",\"rgb(251,128,114)\",\"rgb(190,186,218)\",\"rgb(141,211,199)\",\"rgb(128,177,211)\",\"rgb(255,255,179)\",\"rgb(251,128,114)\",\"rgb(190,186,218)\",\"rgb(141,211,199)\",\"rgb(128,177,211)\",\"rgb(255,255,179)\",\"rgb(251,128,114)\",\"rgb(190,186,218)\",\"rgb(141,211,199)\"]},\"name\":\"\",\"parents\":[\"Night\\u002fFastfood\",\"Evening\\u002fFastfood\",\"Morning\\u002fFastfood\",\"Midnight\\u002fFastfood\",\"Morning\\u002fFastfood\",\"Evening\\u002fFastfood\",\"Night\\u002fFastfood\",\"Night\\u002fBeverages\",\"Night\\u002fFastfood\",\"Morning\\u002fFastfood\",\"Afternoon\\u002fFastfood\",\"Afternoon\\u002fFastfood\",\"Afternoon\\u002fFastfood\",\"Evening\\u002fBeverages\",\"Afternoon\\u002fBeverages\",\"Morning\\u002fFastfood\",\"Morning\\u002fBeverages\",\"Morning\\u002fBeverages\",\"Night\\u002fFastfood\",\"Midnight\\u002fBeverages\",\"Evening\\u002fFastfood\",\"Afternoon\\u002fFastfood\",\"Night\\u002fFastfood\",\"Midnight\\u002fFastfood\",\"Morning\\u002fFastfood\",\"Night\\u002fBeverages\",\"Evening\\u002fFastfood\",\"Midnight\\u002fFastfood\",\"Afternoon\\u002fBeverages\",\"Evening\\u002fBeverages\",\"Midnight\\u002fBeverages\",\"Midnight\\u002fFastfood\",\"Afternoon\\u002fFastfood\",\"Evening\\u002fFastfood\",\"Midnight\\u002fFastfood\",\"Afternoon\",\"Evening\",\"Midnight\",\"Morning\",\"Night\",\"Afternoon\",\"Evening\",\"Midnight\",\"Morning\",\"Night\",\"\",\"\",\"\",\"\",\"\"],\"values\":[183,136,215,201,195,241,270,227,292,234,164,226,238,235,337,204,206,287,244,203,206,194,244,198,233,299,240,278,325,283,237,223,230,199,235,662,518,440,493,526,1052,1022,1135,1081,1233,1714,1540,1575,1574,1759],\"type\":\"sunburst\",\"insidetextorientation\":\"radial\",\"textinfo\":\"label+value\"}],                        {\"template\":{\"data\":{\"histogram2dcontour\":[{\"type\":\"histogram2dcontour\",\"colorbar\":{\"outlinewidth\":0,\"ticks\":\"\"},\"colorscale\":[[0.0,\"#0d0887\"],[0.1111111111111111,\"#46039f\"],[0.2222222222222222,\"#7201a8\"],[0.3333333333333333,\"#9c179e\"],[0.4444444444444444,\"#bd3786\"],[0.5555555555555556,\"#d8576b\"],[0.6666666666666666,\"#ed7953\"],[0.7777777777777778,\"#fb9f3a\"],[0.8888888888888888,\"#fdca26\"],[1.0,\"#f0f921\"]]}],\"choropleth\":[{\"type\":\"choropleth\",\"colorbar\":{\"outlinewidth\":0,\"ticks\":\"\"}}],\"histogram2d\":[{\"type\":\"histogram2d\",\"colorbar\":{\"outlinewidth\":0,\"ticks\":\"\"},\"colorscale\":[[0.0,\"#0d0887\"],[0.1111111111111111,\"#46039f\"],[0.2222222222222222,\"#7201a8\"],[0.3333333333333333,\"#9c179e\"],[0.4444444444444444,\"#bd3786\"],[0.5555555555555556,\"#d8576b\"],[0.6666666666666666,\"#ed7953\"],[0.7777777777777778,\"#fb9f3a\"],[0.8888888888888888,\"#fdca26\"],[1.0,\"#f0f921\"]]}],\"heatmap\":[{\"type\":\"heatmap\",\"colorbar\":{\"outlinewidth\":0,\"ticks\":\"\"},\"colorscale\":[[0.0,\"#0d0887\"],[0.1111111111111111,\"#46039f\"],[0.2222222222222222,\"#7201a8\"],[0.3333333333333333,\"#9c179e\"],[0.4444444444444444,\"#bd3786\"],[0.5555555555555556,\"#d8576b\"],[0.6666666666666666,\"#ed7953\"],[0.7777777777777778,\"#fb9f3a\"],[0.8888888888888888,\"#fdca26\"],[1.0,\"#f0f921\"]]}],\"heatmapgl\":[{\"type\":\"heatmapgl\",\"colorbar\":{\"outlinewidth\":0,\"ticks\":\"\"},\"colorscale\":[[0.0,\"#0d0887\"],[0.1111111111111111,\"#46039f\"],[0.2222222222222222,\"#7201a8\"],[0.3333333333333333,\"#9c179e\"],[0.4444444444444444,\"#bd3786\"],[0.5555555555555556,\"#d8576b\"],[0.6666666666666666,\"#ed7953\"],[0.7777777777777778,\"#fb9f3a\"],[0.8888888888888888,\"#fdca26\"],[1.0,\"#f0f921\"]]}],\"contourcarpet\":[{\"type\":\"contourcarpet\",\"colorbar\":{\"outlinewidth\":0,\"ticks\":\"\"}}],\"contour\":[{\"type\":\"contour\",\"colorbar\":{\"outlinewidth\":0,\"ticks\":\"\"},\"colorscale\":[[0.0,\"#0d0887\"],[0.1111111111111111,\"#46039f\"],[0.2222222222222222,\"#7201a8\"],[0.3333333333333333,\"#9c179e\"],[0.4444444444444444,\"#bd3786\"],[0.5555555555555556,\"#d8576b\"],[0.6666666666666666,\"#ed7953\"],[0.7777777777777778,\"#fb9f3a\"],[0.8888888888888888,\"#fdca26\"],[1.0,\"#f0f921\"]]}],\"surface\":[{\"type\":\"surface\",\"colorbar\":{\"outlinewidth\":0,\"ticks\":\"\"},\"colorscale\":[[0.0,\"#0d0887\"],[0.1111111111111111,\"#46039f\"],[0.2222222222222222,\"#7201a8\"],[0.3333333333333333,\"#9c179e\"],[0.4444444444444444,\"#bd3786\"],[0.5555555555555556,\"#d8576b\"],[0.6666666666666666,\"#ed7953\"],[0.7777777777777778,\"#fb9f3a\"],[0.8888888888888888,\"#fdca26\"],[1.0,\"#f0f921\"]]}],\"mesh3d\":[{\"type\":\"mesh3d\",\"colorbar\":{\"outlinewidth\":0,\"ticks\":\"\"}}],\"scatter\":[{\"fillpattern\":{\"fillmode\":\"overlay\",\"size\":10,\"solidity\":0.2},\"type\":\"scatter\"}],\"parcoords\":[{\"type\":\"parcoords\",\"line\":{\"colorbar\":{\"outlinewidth\":0,\"ticks\":\"\"}}}],\"scatterpolargl\":[{\"type\":\"scatterpolargl\",\"marker\":{\"colorbar\":{\"outlinewidth\":0,\"ticks\":\"\"}}}],\"bar\":[{\"error_x\":{\"color\":\"#2a3f5f\"},\"error_y\":{\"color\":\"#2a3f5f\"},\"marker\":{\"line\":{\"color\":\"#E5ECF6\",\"width\":0.5},\"pattern\":{\"fillmode\":\"overlay\",\"size\":10,\"solidity\":0.2}},\"type\":\"bar\"}],\"scattergeo\":[{\"type\":\"scattergeo\",\"marker\":{\"colorbar\":{\"outlinewidth\":0,\"ticks\":\"\"}}}],\"scatterpolar\":[{\"type\":\"scatterpolar\",\"marker\":{\"colorbar\":{\"outlinewidth\":0,\"ticks\":\"\"}}}],\"histogram\":[{\"marker\":{\"pattern\":{\"fillmode\":\"overlay\",\"size\":10,\"solidity\":0.2}},\"type\":\"histogram\"}],\"scattergl\":[{\"type\":\"scattergl\",\"marker\":{\"colorbar\":{\"outlinewidth\":0,\"ticks\":\"\"}}}],\"scatter3d\":[{\"type\":\"scatter3d\",\"line\":{\"colorbar\":{\"outlinewidth\":0,\"ticks\":\"\"}},\"marker\":{\"colorbar\":{\"outlinewidth\":0,\"ticks\":\"\"}}}],\"scattermapbox\":[{\"type\":\"scattermapbox\",\"marker\":{\"colorbar\":{\"outlinewidth\":0,\"ticks\":\"\"}}}],\"scatterternary\":[{\"type\":\"scatterternary\",\"marker\":{\"colorbar\":{\"outlinewidth\":0,\"ticks\":\"\"}}}],\"scattercarpet\":[{\"type\":\"scattercarpet\",\"marker\":{\"colorbar\":{\"outlinewidth\":0,\"ticks\":\"\"}}}],\"carpet\":[{\"aaxis\":{\"endlinecolor\":\"#2a3f5f\",\"gridcolor\":\"white\",\"linecolor\":\"white\",\"minorgridcolor\":\"white\",\"startlinecolor\":\"#2a3f5f\"},\"baxis\":{\"endlinecolor\":\"#2a3f5f\",\"gridcolor\":\"white\",\"linecolor\":\"white\",\"minorgridcolor\":\"white\",\"startlinecolor\":\"#2a3f5f\"},\"type\":\"carpet\"}],\"table\":[{\"cells\":{\"fill\":{\"color\":\"#EBF0F8\"},\"line\":{\"color\":\"white\"}},\"header\":{\"fill\":{\"color\":\"#C8D4E3\"},\"line\":{\"color\":\"white\"}},\"type\":\"table\"}],\"barpolar\":[{\"marker\":{\"line\":{\"color\":\"#E5ECF6\",\"width\":0.5},\"pattern\":{\"fillmode\":\"overlay\",\"size\":10,\"solidity\":0.2}},\"type\":\"barpolar\"}],\"pie\":[{\"automargin\":true,\"type\":\"pie\"}]},\"layout\":{\"autotypenumbers\":\"strict\",\"colorway\":[\"#636efa\",\"#EF553B\",\"#00cc96\",\"#ab63fa\",\"#FFA15A\",\"#19d3f3\",\"#FF6692\",\"#B6E880\",\"#FF97FF\",\"#FECB52\"],\"font\":{\"color\":\"#2a3f5f\"},\"hovermode\":\"closest\",\"hoverlabel\":{\"align\":\"left\"},\"paper_bgcolor\":\"white\",\"plot_bgcolor\":\"#E5ECF6\",\"polar\":{\"bgcolor\":\"#E5ECF6\",\"angularaxis\":{\"gridcolor\":\"white\",\"linecolor\":\"white\",\"ticks\":\"\"},\"radialaxis\":{\"gridcolor\":\"white\",\"linecolor\":\"white\",\"ticks\":\"\"}},\"ternary\":{\"bgcolor\":\"#E5ECF6\",\"aaxis\":{\"gridcolor\":\"white\",\"linecolor\":\"white\",\"ticks\":\"\"},\"baxis\":{\"gridcolor\":\"white\",\"linecolor\":\"white\",\"ticks\":\"\"},\"caxis\":{\"gridcolor\":\"white\",\"linecolor\":\"white\",\"ticks\":\"\"}},\"coloraxis\":{\"colorbar\":{\"outlinewidth\":0,\"ticks\":\"\"}},\"colorscale\":{\"sequential\":[[0.0,\"#0d0887\"],[0.1111111111111111,\"#46039f\"],[0.2222222222222222,\"#7201a8\"],[0.3333333333333333,\"#9c179e\"],[0.4444444444444444,\"#bd3786\"],[0.5555555555555556,\"#d8576b\"],[0.6666666666666666,\"#ed7953\"],[0.7777777777777778,\"#fb9f3a\"],[0.8888888888888888,\"#fdca26\"],[1.0,\"#f0f921\"]],\"sequentialminus\":[[0.0,\"#0d0887\"],[0.1111111111111111,\"#46039f\"],[0.2222222222222222,\"#7201a8\"],[0.3333333333333333,\"#9c179e\"],[0.4444444444444444,\"#bd3786\"],[0.5555555555555556,\"#d8576b\"],[0.6666666666666666,\"#ed7953\"],[0.7777777777777778,\"#fb9f3a\"],[0.8888888888888888,\"#fdca26\"],[1.0,\"#f0f921\"]],\"diverging\":[[0,\"#8e0152\"],[0.1,\"#c51b7d\"],[0.2,\"#de77ae\"],[0.3,\"#f1b6da\"],[0.4,\"#fde0ef\"],[0.5,\"#f7f7f7\"],[0.6,\"#e6f5d0\"],[0.7,\"#b8e186\"],[0.8,\"#7fbc41\"],[0.9,\"#4d9221\"],[1,\"#276419\"]]},\"xaxis\":{\"gridcolor\":\"white\",\"linecolor\":\"white\",\"ticks\":\"\",\"title\":{\"standoff\":15},\"zerolinecolor\":\"white\",\"automargin\":true,\"zerolinewidth\":2},\"yaxis\":{\"gridcolor\":\"white\",\"linecolor\":\"white\",\"ticks\":\"\",\"title\":{\"standoff\":15},\"zerolinecolor\":\"white\",\"automargin\":true,\"zerolinewidth\":2},\"scene\":{\"xaxis\":{\"backgroundcolor\":\"#E5ECF6\",\"gridcolor\":\"white\",\"linecolor\":\"white\",\"showbackground\":true,\"ticks\":\"\",\"zerolinecolor\":\"white\",\"gridwidth\":2},\"yaxis\":{\"backgroundcolor\":\"#E5ECF6\",\"gridcolor\":\"white\",\"linecolor\":\"white\",\"showbackground\":true,\"ticks\":\"\",\"zerolinecolor\":\"white\",\"gridwidth\":2},\"zaxis\":{\"backgroundcolor\":\"#E5ECF6\",\"gridcolor\":\"white\",\"linecolor\":\"white\",\"showbackground\":true,\"ticks\":\"\",\"zerolinecolor\":\"white\",\"gridwidth\":2}},\"shapedefaults\":{\"line\":{\"color\":\"#2a3f5f\"}},\"annotationdefaults\":{\"arrowcolor\":\"#2a3f5f\",\"arrowhead\":0,\"arrowwidth\":1},\"geo\":{\"bgcolor\":\"white\",\"landcolor\":\"#E5ECF6\",\"subunitcolor\":\"white\",\"showland\":true,\"showlakes\":true,\"lakecolor\":\"white\"},\"title\":{\"x\":0.05},\"mapbox\":{\"style\":\"light\"}}},\"legend\":{\"tracegroupgap\":0},\"margin\":{\"t\":60},\"sunburstcolorway\":[\"rgb(141,211,199)\",\"rgb(255,255,179)\",\"rgb(190,186,218)\",\"rgb(251,128,114)\",\"rgb(128,177,211)\",\"rgb(253,180,98)\",\"rgb(179,222,105)\",\"rgb(252,205,229)\",\"rgb(217,217,217)\",\"rgb(188,128,189)\",\"rgb(204,235,197)\",\"rgb(255,237,111)\"],\"height\":700,\"width\":700},                        {\"responsive\": true}                    ).then(function(){\n",
       "                            \n",
       "var gd = document.getElementById('abd8a638-3c52-4534-a7cf-c7783aea6a66');\n",
       "var x = new MutationObserver(function (mutations, observer) {{\n",
       "        var display = window.getComputedStyle(gd).display;\n",
       "        if (!display || display === 'none') {{\n",
       "            console.log([gd, 'removed!']);\n",
       "            Plotly.purge(gd);\n",
       "            observer.disconnect();\n",
       "        }}\n",
       "}});\n",
       "\n",
       "// Listen for the removal of the full notebook cells\n",
       "var notebookContainer = gd.closest('#notebook-container');\n",
       "if (notebookContainer) {{\n",
       "    x.observe(notebookContainer, {childList: true});\n",
       "}}\n",
       "\n",
       "// Listen for the clearing of the current output cell\n",
       "var outputEl = gd.closest('.output');\n",
       "if (outputEl) {{\n",
       "    x.observe(outputEl, {childList: true});\n",
       "}}\n",
       "\n",
       "                        })                };                });            </script>        </div>"
      ]
     },
     "metadata": {},
     "output_type": "display_data"
    }
   ],
   "source": [
    "# Create sunburst\n",
    "fig = px.sunburst(df_time, path=['time_of_sale', 'item_type', 'item_name'], values='quantity',\n",
    "                  color='time_of_sale',\n",
    "                  color_discrete_sequence=px.colors.qualitative.Set3,\n",
    "                  width=700, height=700)\n",
    "\n",
    "\n",
    "\n",
    "fig.update_traces(\n",
    "    textinfo=\"label+value\",\n",
    "    insidetextorientation='radial'\n",
    ")\n",
    "\n",
    "fig.show()"
   ]
  },
  {
   "cell_type": "markdown",
   "id": "999c781f-0edb-46fd-9919-2d5aeeeb046f",
   "metadata": {},
   "source": [
    "**💬 Observation:**  \\\n",
    "The most popular dishes in the morning are: Drinks: Cold coffee, Fast food: Sandwich \\\n",
    "The most popular dishes in the afternoon are: Drinks: Cold coffee, Fast food: Frankie\\\n",
    "The most popular dishes in the evening are: Drinks: Sugarcane juice, Fast food: Panipuri\\\n",
    "The most popular dishes in the evening are: Drinks: Cold coffee, Fast food: Sandwich\\\n",
    "The most popular dishes at midnight are: Drinks: Sugarcane juice, Fast food: Panipuri"
   ]
  },
  {
   "cell_type": "code",
   "execution_count": 89,
   "id": "c1237035-b18f-46ec-a7e9-c6d96dc8a686",
   "metadata": {},
   "outputs": [
    {
     "data": {
      "image/png": "[encoded data removed]",
      "text/plain": [
       "<Figure size 1400x800 with 2 Axes>"
      ]
     },
     "metadata": {},
     "output_type": "display_data"
    }
   ],
   "source": [
    "time_item_name_pivot = pd.pivot_table(data, values='quantity',\n",
    "                                      index='time_of_sale',\n",
    "                                      columns='item_name',\n",
    "                                      aggfunc=np.sum,\n",
    "                                      fill_value=0)\n",
    "#Create heat maps of consumption groups for different time periods and dishes\n",
    "plt.figure(figsize=(14,8))\n",
    "sns.heatmap(time_item_name_pivot, annot=True, fmt=\".0f\", linewidths=.5,cmap=\"YlGnBu\")\n",
    "plt.title(\"sales Quantity Heatmap by Time of Sale and Item Name\")\n",
    "plt.ylabel(\"Time of sale\")\n",
    "plt.xlabel(\"Item Name\")\n",
    "plt. show()"
   ]
  },
  {
   "cell_type": "markdown",
   "id": "7a9356b6-a8d8-4139-b91e-f7efb159017f",
   "metadata": {},
   "source": [
    "From the data, we can know:\n",
    "1. Cold coffee is a relatively popular drink throughout the day, especially in the morning, afternoon and evening, which may be related to people's habit of needing to refresh themselves in the morning and evening.\n",
    "2. Sandwiches sell well in the morning and evening, so it can be considered as the main product for breakfast and dinner.\n",
    "Sugarcane juice sells well in the afternoon, which may be related to the hot weather in the afternoon and people need to quench their thirst, but sales decline in the evening.\n",
    "4. Vadapav and Panipuri are very popular during the midnight period, which may be because they are more suitable for consumption as snacks at night.\n",
    "5. Aalopuri sells well in the evening and midnight, and has the lowest sales in the evening."
   ]
  },
  {
   "cell_type": "markdown",
   "id": "3648b867-f718-4136-a717-a12b1b8b9baf",
   "metadata": {},
   "source": [
    "Suggestions:\n",
    "1. Prepare enough cold coffee and sandwiches in the morning as they are hot-selling items during breakfast time.\n",
    "2. Prepare more sugarcane juice in the afternoon as it is a popular choice for customers during hot weather.\n",
    "3. In the evening to midnight, Vadapav and Panipuri should be prepared to meet the snack needs of night consumers.\n",
    "4. Aalopuri, as a product that sells well in the evening and midnight, also needs to be prepared in moderation.\n",
    "5. Considering that cold coffee has a steady sales volume throughout the day, it should be ensured that there is sufficient supply throughout the day."
   ]
  },
  {
   "cell_type": "code",
   "execution_count": null,
   "id": "cbabc937-8a03-46d2-9902-8819789ac94d",
   "metadata": {},
   "outputs": [],
   "source": []
  }
 ],
 "metadata": {
  "kernelspec": {
   "display_name": "Python 3 (ipykernel)",
   "language": "python",
   "name": "python3"
  },
  "language_info": {
   "codemirror_mode": {
    "name": "ipython",
    "version": 3
   },
   "file_extension": ".py",
   "mimetype": "text/x-python",
   "name": "python",
   "nbconvert_exporter": "python",
   "pygments_lexer": "ipython3",
   "version": "3.11.5"
  }
 },
 "nbformat": 4,
 "nbformat_minor": 5
}
